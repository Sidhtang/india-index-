{
  "nbformat": 4,
  "nbformat_minor": 0,
  "metadata": {
    "colab": {
      "provenance": [],
      "gpuType": "T4",
      "authorship_tag": "ABX9TyMiTr+m+6x0AD6xOdjI2i/b",
      "include_colab_link": true
    },
    "kernelspec": {
      "name": "python3",
      "display_name": "Python 3"
    },
    "language_info": {
      "name": "python"
    },
    "accelerator": "GPU"
  },
  "cells": [
    {
      "cell_type": "markdown",
      "metadata": {
        "id": "view-in-github",
        "colab_type": "text"
      },
      "source": [
        "<a href=\"https://colab.research.google.com/github/Sidhtang/india-index-/blob/main/hs_code_prediction_using_bmodel.ipynb\" target=\"_parent\"><img src=\"https://colab.research.google.com/assets/colab-badge.svg\" alt=\"Open In Colab\"/></a>"
      ]
    },
    {
      "cell_type": "code",
      "execution_count": 1,
      "metadata": {
        "colab": {
          "base_uri": "https://localhost:8080/"
        },
        "id": "_9vkGmernaIV",
        "outputId": "9da6d686-1bd8-49f5-93c5-735d26efe229"
      },
      "outputs": [
        {
          "output_type": "stream",
          "name": "stdout",
          "text": [
            "Training set shape: (80000, 2)\n",
            "Test set shape: (20000, 2)\n",
            "\n",
            "Sample data:\n",
            "                                    description  hs_code\n",
            "75220              Used Red Recycled Smartphone  8517.12\n",
            "48955    Used Black Premium Electric toothbrush  8509.80\n",
            "44966  Refurbished Black Premium Cotton T-shirt  6109.10\n",
            "13568       Used Black Synthetic Cotton T-shirt  6109.10\n",
            "92727     Vintage Green Synthetic Leather shoes  6403.99\n"
          ]
        }
      ],
      "source": [
        "import pandas as pd\n",
        "import numpy as np\n",
        "from sklearn.model_selection import train_test_split\n",
        "\n",
        "def create_hs_code_dataset(num_samples=100000):\n",
        "    # Simulating a dataset with product descriptions and HS codes\n",
        "    products = [\n",
        "        \"Cotton T-shirt\", \"Leather shoes\", \"Smartphone\", \"Laptop computer\",\n",
        "        \"Wooden chair\", \"Stainless steel watch\", \"Electric toothbrush\",\n",
        "        \"Plastic water bottle\", \"Glass vase\", \"Aluminum cookware set\"\n",
        "    ]\n",
        "\n",
        "    hs_codes = [\n",
        "        \"6109.10\", \"6403.99\", \"8517.12\", \"8471.30\",\n",
        "        \"9401.61\", \"9102.11\", \"8509.80\",\n",
        "        \"3923.30\", \"7013.99\", \"7615.10\"\n",
        "    ]\n",
        "\n",
        "    # Generate random combinations of products and features\n",
        "    data = []\n",
        "    for _ in range(num_samples):\n",
        "        idx = np.random.randint(0, len(products))\n",
        "        product = products[idx]\n",
        "        hs_code = hs_codes[idx]\n",
        "\n",
        "        # Add some variation to the product descriptions\n",
        "        variants = [\"New\", \"Used\", \"Refurbished\", \"Vintage\", \"Custom\"]\n",
        "        colors = [\"Red\", \"Blue\", \"Green\", \"Yellow\", \"Black\", \"White\"]\n",
        "        materials = [\"Organic\", \"Synthetic\", \"Recycled\", \"Premium\"]\n",
        "\n",
        "        description = f\"{np.random.choice(variants)} {np.random.choice(colors)} {np.random.choice(materials)} {product}\"\n",
        "\n",
        "        data.append({\n",
        "            \"description\": description,\n",
        "            \"hs_code\": hs_code\n",
        "        })\n",
        "\n",
        "    df = pd.DataFrame(data)\n",
        "\n",
        "    # Split the dataset\n",
        "    train_df, test_df = train_test_split(df, test_size=0.2, random_state=42)\n",
        "\n",
        "    return train_df, test_df\n",
        "\n",
        "# Create the dataset\n",
        "train_df, test_df = create_hs_code_dataset()\n",
        "\n",
        "# Save the datasets\n",
        "train_df.to_csv(\"hs_code_train.csv\", index=False)\n",
        "test_df.to_csv(\"hs_code_test.csv\", index=False)\n",
        "\n",
        "print(f\"Training set shape: {train_df.shape}\")\n",
        "print(f\"Test set shape: {test_df.shape}\")\n",
        "print(\"\\nSample data:\")\n",
        "print(train_df.head())"
      ]
    },
    {
      "cell_type": "code",
      "source": [
        "import numpy as np\n",
        "import pandas as pd\n",
        "from tensorflow.keras.models import load_model\n",
        "from tensorflow.keras.preprocessing.sequence import pad_sequences\n",
        "\n",
        "# Assuming you've saved your trained model and tokenizer\n",
        "# If not, you'll need to train the model first using the code you provided\n",
        "\n",
        "def load_trained_model(model_path):\n",
        "    return load_model(model_path)\n",
        "\n",
        "def predict_hs_code(text, model, tokenizer, max_len=100):\n",
        "    # Tokenize the input text\n",
        "    sequence = tokenizer.texts_to_sequences([text])\n",
        "\n",
        "    # Pad the sequence\n",
        "    padded_sequence = pad_sequences(sequence, maxlen=max_len)\n",
        "\n",
        "    # Make prediction\n",
        "    prediction = model.predict(padded_sequence)\n",
        "\n",
        "    # Get the predicted class (HS code)\n",
        "    predicted_class = np.argmax(prediction, axis=1)[0]\n",
        "\n",
        "    return predicted_class\n",
        "\n",
        "# Load the trained model\n",
        "model_path = '/content/models/lstm_model.h5'  # Replace with your model's path\n",
        "lstm_model = load_trained_model(model_path)\n",
        "\n",
        "# Load or create the tokenizer (you need to save and load the tokenizer separately)\n",
        "# For this example, let's assume we're creating a new tokenizer and fitting it on some data\n",
        "# In practice, you should save and load the tokenizer used during training\n",
        "train_df = pd.read_csv(\"hs_code_train.csv\")  # Load your training data\n",
        "tokenizer = Tokenizer(num_words=5000)\n",
        "tokenizer.fit_on_texts(train_df['description'])\n",
        "\n",
        "# Load the label encoder or create a mapping of HS codes\n",
        "hs_codes = train_df['hs_code'].unique()\n",
        "\n",
        "# Function to get the actual HS code from the predicted class\n",
        "def get_hs_code(predicted_class):\n",
        "    return hs_codes[predicted_class]\n",
        "\n",
        "# Example usage\n",
        "while True:\n",
        "    text = input(\"Enter a product description (or 'quit' to exit): \")\n",
        "    if text.lower() == 'quit':\n",
        "        break\n",
        "\n",
        "    predicted_class = predict_hs_code(text, lstm_model, tokenizer)\n",
        "    predicted_hs_code = get_hs_code(predicted_class)\n",
        "\n",
        "    print(f\"Predicted HS Code: {predicted_hs_code}\")\n",
        "\n",
        "print(\"Thank you for using the HS Code Predictor!\")"
      ],
      "metadata": {
        "colab": {
          "base_uri": "https://localhost:8080/"
        },
        "id": "sKbMlOmkYY7t",
        "outputId": "713c156b-187f-43c5-efdc-117c3c63df5f"
      },
      "execution_count": 18,
      "outputs": [
        {
          "output_type": "stream",
          "name": "stderr",
          "text": [
            "WARNING:absl:Compiled the loaded model, but the compiled metrics have yet to be built. `model.compile_metrics` will be empty until you train or evaluate the model.\n"
          ]
        },
        {
          "output_type": "stream",
          "name": "stdout",
          "text": [
            "Enter a product description (or 'quit' to exit): black leather jacket\n",
            "\u001b[1m1/1\u001b[0m \u001b[32m━━━━━━━━━━━━━━━━━━━━\u001b[0m\u001b[37m\u001b[0m \u001b[1m0s\u001b[0m 350ms/step\n",
            "Predicted HS Code: 6109.1\n",
            "Enter a product description (or 'quit' to exit): Used Blue Recycled Wooden chair\n",
            "\u001b[1m1/1\u001b[0m \u001b[32m━━━━━━━━━━━━━━━━━━━━\u001b[0m\u001b[37m\u001b[0m \u001b[1m0s\u001b[0m 18ms/step\n",
            "Predicted HS Code: 7615.1\n",
            "Enter a product description (or 'quit' to exit): quit\n",
            "Thank you for using the HS Code Predictor!\n"
          ]
        }
      ]
    },
    {
      "cell_type": "code",
      "source": [],
      "metadata": {
        "id": "_jfhtKFEYZG0"
      },
      "execution_count": null,
      "outputs": []
    }
  ]
}